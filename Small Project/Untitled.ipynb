{
 "cells": [
  {
   "cell_type": "code",
   "execution_count": 19,
   "id": "c6b26c6e",
   "metadata": {
    "ExecuteTime": {
     "end_time": "2021-05-24T13:07:06.461753Z",
     "start_time": "2021-05-24T13:07:05.295227Z"
    }
   },
   "outputs": [],
   "source": [
    "import numpy as np\n",
    "import pandas as pd"
   ]
  },
  {
   "cell_type": "code",
   "execution_count": 20,
   "id": "e7cc5687",
   "metadata": {
    "ExecuteTime": {
     "end_time": "2021-05-24T13:07:42.057617Z",
     "start_time": "2021-05-24T13:07:41.378832Z"
    }
   },
   "outputs": [],
   "source": [
    "data = np.genfromtxt('Solutions/Classification_KimiKreilgaard_XGBoostClassifier.txt', delimiter=',', )"
   ]
  },
  {
   "cell_type": "code",
   "execution_count": 22,
   "id": "04352c92",
   "metadata": {
    "ExecuteTime": {
     "end_time": "2021-05-24T13:08:21.397937Z",
     "start_time": "2021-05-24T13:08:21.391783Z"
    }
   },
   "outputs": [],
   "source": [
    "df = pd.DataFrame(1-data[:,1])"
   ]
  },
  {
   "cell_type": "code",
   "execution_count": 25,
   "id": "cce07591",
   "metadata": {
    "ExecuteTime": {
     "end_time": "2021-05-24T13:09:18.186503Z",
     "start_time": "2021-05-24T13:09:17.649451Z"
    }
   },
   "outputs": [],
   "source": [
    "# Make csv file with predictions\n",
    "file_name = 'Classification_KimiKreilgaard_XGBoostClassifier2.txt'\n",
    "df.to_csv('Solutions/'+file_name, sep=',', header=None, index=True, mode='w')"
   ]
  },
  {
   "cell_type": "code",
   "execution_count": null,
   "id": "fc117d46",
   "metadata": {},
   "outputs": [],
   "source": []
  },
  {
   "cell_type": "code",
   "execution_count": 18,
   "id": "38c1f70f",
   "metadata": {
    "ExecuteTime": {
     "end_time": "2021-05-24T13:06:41.919657Z",
     "start_time": "2021-05-24T13:06:41.357022Z"
    }
   },
   "outputs": [],
   "source": [
    "# Produce new file\n",
    "np.savetxt('Solutions/Classification_KimiKreilgaard_XGBoostClassifier2.txt', data, delimiter=',')"
   ]
  },
  {
   "cell_type": "code",
   "execution_count": 17,
   "id": "61659e0e",
   "metadata": {
    "ExecuteTime": {
     "end_time": "2021-05-24T13:06:31.890728Z",
     "start_time": "2021-05-24T13:06:31.877272Z"
    }
   },
   "outputs": [
    {
     "data": {
      "text/plain": [
       "array([[0.00000000e+00, 9.98884022e-01],\n",
       "       [1.00000000e+00, 9.93432522e-01],\n",
       "       [2.00000000e+00, 9.91262913e-01],\n",
       "       ...,\n",
       "       [1.60648000e+05, 1.16020000e-03],\n",
       "       [1.60649000e+05, 9.45300000e-05],\n",
       "       [1.60650000e+05, 9.95144784e-01]])"
      ]
     },
     "execution_count": 17,
     "metadata": {},
     "output_type": "execute_result"
    }
   ],
   "source": [
    "data"
   ]
  },
  {
   "cell_type": "code",
   "execution_count": null,
   "id": "443f9ff2",
   "metadata": {},
   "outputs": [],
   "source": []
  }
 ],
 "metadata": {
  "kernelspec": {
   "display_name": "Python 3",
   "language": "python",
   "name": "python3"
  },
  "language_info": {
   "codemirror_mode": {
    "name": "ipython",
    "version": 3
   },
   "file_extension": ".py",
   "mimetype": "text/x-python",
   "name": "python",
   "nbconvert_exporter": "python",
   "pygments_lexer": "ipython3",
   "version": "3.6.12"
  },
  "toc": {
   "base_numbering": 1,
   "nav_menu": {},
   "number_sections": true,
   "sideBar": true,
   "skip_h1_title": false,
   "title_cell": "Table of Contents",
   "title_sidebar": "Contents",
   "toc_cell": false,
   "toc_position": {},
   "toc_section_display": true,
   "toc_window_display": true
  }
 },
 "nbformat": 4,
 "nbformat_minor": 5
}
