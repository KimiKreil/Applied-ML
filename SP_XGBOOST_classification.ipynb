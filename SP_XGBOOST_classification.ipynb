{
 "cells": [
  {
   "cell_type": "code",
   "execution_count": 1,
   "id": "b630d2d9",
   "metadata": {
    "ExecuteTime": {
     "end_time": "2021-05-18T20:45:15.064631Z",
     "start_time": "2021-05-18T20:45:03.719394Z"
    }
   },
   "outputs": [],
   "source": [
    "# Load libraries\n",
    "import pandas as pd\n",
    "import numpy as np\n",
    "import matplotlib.pyplot as plt\n",
    "import seaborn as sns\n",
    "import matplotlib.patches as patches\n",
    "\n",
    "# Kfold stuff\n",
    "from sklearn.model_selection import KFold\n",
    "import xgboost as xgb\n",
    "from sklearn.model_selection import train_test_split, cross_val_score\n",
    "from sklearn.metrics import accuracy_score, balanced_accuracy_score, log_loss, make_scorer\n",
    "from sklearn.metrics import roc_curve, auc\n",
    "from sklearn import preprocessing\n",
    "\n",
    "# For optimizing hyper parameters\n",
    "from sklearn.model_selection import GridSearchCV, RandomizedSearchCV\n",
    "from bayes_opt import BayesianOptimization\n",
    "\n",
    "# For selecting features\n",
    "import shap\n",
    "\n",
    "# For creating loading bars and measuring time\n",
    "from tqdm.notebook import tqdm\n",
    "import time\n",
    "\n",
    "# Statistical distributions\n",
    "from scipy import stats"
   ]
  },
  {
   "cell_type": "markdown",
   "id": "e0010af5",
   "metadata": {},
   "source": [
    "# Reading the data"
   ]
  },
  {
   "cell_type": "markdown",
   "id": "16bd1f9a",
   "metadata": {},
   "source": [
    "We start by opening the files and loading them into a Numpy array"
   ]
  },
  {
   "cell_type": "code",
   "execution_count": 2,
   "id": "19fc50fe",
   "metadata": {
    "ExecuteTime": {
     "end_time": "2021-05-18T20:45:47.171759Z",
     "start_time": "2021-05-18T20:45:44.556641Z"
    }
   },
   "outputs": [],
   "source": [
    "import h5py\n",
    "import pandas\n",
    "\n",
    "def load_data(name):\n",
    "    with h5py.File(f'{name}.h5', 'r') as f:\n",
    "        return pd.DataFrame(f[name][:])\n",
    "\n",
    "train = load_data('train')\n",
    "test  = load_data('test')"
   ]
  },
  {
   "cell_type": "markdown",
   "id": "2d961335",
   "metadata": {},
   "source": [
    "Then we can verify the shape"
   ]
  },
  {
   "cell_type": "code",
   "execution_count": 3,
   "id": "340802ac",
   "metadata": {
    "ExecuteTime": {
     "end_time": "2021-05-18T20:45:49.002473Z",
     "start_time": "2021-05-18T20:45:48.987064Z"
    }
   },
   "outputs": [
    {
     "name": "stdout",
     "output_type": "stream",
     "text": [
      "Shape of training data set: (162500, 166)\n",
      "Shape of test data set: (160651, 164)\n"
     ]
    }
   ],
   "source": [
    "print (f'Shape of training data set: {train.shape}')\n",
    "print (f'Shape of test data set: {test.shape}')"
   ]
  },
  {
   "cell_type": "markdown",
   "id": "54e01e25",
   "metadata": {},
   "source": [
    "As expected, the test set contains 2 columns less: `Truth` and `p_truth_E`.\n",
    "    \n",
    "Then we copy the variable list from the course website <https://www.nbi.dk/~petersen/Teaching/ML2020/SmallProject/VariableList.html>"
   ]
  },
  {
   "cell_type": "code",
   "execution_count": 4,
   "id": "bdc71ec7",
   "metadata": {
    "ExecuteTime": {
     "end_time": "2021-05-18T20:45:53.033843Z",
     "start_time": "2021-05-18T20:45:53.022715Z"
    }
   },
   "outputs": [],
   "source": [
    "all_variables = ['actualInteractionsPerCrossing', 'averageInteractionsPerCrossing', 'correctedActualMu', 'correctedAverageMu', 'correctedScaledActualMu', 'correctedScaledAverageMu', 'NvtxReco', 'p_nTracks', 'p_pt_track', 'p_eta', 'p_phi', 'p_charge', 'p_qOverP', 'p_z0', 'p_d0', 'p_sigmad0', 'p_d0Sig', 'p_EptRatio', 'p_dPOverP', 'p_z0theta', 'p_etaCluster', 'p_phiCluster', 'p_eCluster', 'p_rawEtaCluster', 'p_rawPhiCluster', 'p_rawECluster', 'p_eClusterLr0', 'p_eClusterLr1', 'p_eClusterLr2', 'p_eClusterLr3', 'p_etaClusterLr1', 'p_etaClusterLr2', 'p_phiClusterLr2', 'p_eAccCluster', 'p_f0Cluster', 'p_etaCalo', 'p_phiCalo', 'p_eTileGap3Cluster', 'p_cellIndexCluster', 'p_phiModCalo', 'p_etaModCalo', 'p_dPhiTH3', 'p_R12', 'p_fTG3', 'p_weta2', 'p_Reta', 'p_Rphi', 'p_Eratio', 'p_f1', 'p_f3', 'p_Rhad', 'p_Rhad1', 'p_deltaEta1', 'p_deltaPhiRescaled2', 'p_TRTPID', 'p_TRTTrackOccupancy', 'p_numberOfInnermostPixelHits', 'p_numberOfPixelHits', 'p_numberOfSCTHits', 'p_numberOfTRTHits', 'p_numberOfTRTXenonHits', 'p_chi2', 'p_ndof', 'p_SharedMuonTrack', 'p_E7x7_Lr2', 'p_E7x7_Lr3', 'p_E_Lr0_HiG', 'p_E_Lr0_LowG', 'p_E_Lr0_MedG', 'p_E_Lr1_HiG', 'p_E_Lr1_LowG', 'p_E_Lr1_MedG', 'p_E_Lr2_HiG', 'p_E_Lr2_LowG', 'p_E_Lr2_MedG', 'p_E_Lr3_HiG', 'p_E_Lr3_LowG', 'p_E_Lr3_MedG', 'p_ambiguityType', 'p_asy1', 'p_author', 'p_barys1', 'p_core57cellsEnergyCorrection', 'p_deltaEta0', 'p_deltaEta2', 'p_deltaEta3', 'p_deltaPhi0', 'p_deltaPhi1', 'p_deltaPhi2', 'p_deltaPhi3', 'p_deltaPhiFromLastMeasurement', 'p_deltaPhiRescaled0', 'p_deltaPhiRescaled1', 'p_deltaPhiRescaled3', 'p_e1152', 'p_e132', 'p_e235', 'p_e255', 'p_e2ts1', 'p_ecore', 'p_emins1', 'p_etconeCorrBitset', 'p_ethad', 'p_ethad1', 'p_f1core', 'p_f3core', 'p_maxEcell_energy', 'p_maxEcell_gain', 'p_maxEcell_time', 'p_maxEcell_x', 'p_maxEcell_y', 'p_maxEcell_z', 'p_nCells_Lr0_HiG', 'p_nCells_Lr0_LowG', 'p_nCells_Lr0_MedG', 'p_nCells_Lr1_HiG', 'p_nCells_Lr1_LowG', 'p_nCells_Lr1_MedG', 'p_nCells_Lr2_HiG', 'p_nCells_Lr2_LowG', 'p_nCells_Lr2_MedG', 'p_nCells_Lr3_HiG', 'p_nCells_Lr3_LowG', 'p_nCells_Lr3_MedG', 'p_pos', 'p_pos7', 'p_poscs1', 'p_poscs2', 'p_ptconeCorrBitset', 'p_ptconecoreTrackPtrCorrection', 'p_r33over37allcalo', 'p_topoetconeCorrBitset', 'p_topoetconecoreConeEnergyCorrection', 'p_topoetconecoreConeSCEnergyCorrection', 'p_weta1', 'p_widths1', 'p_widths2', 'p_wtots1', 'p_e233', 'p_e237', 'p_e277', 'p_e2tsts1', 'p_ehad1', 'p_emaxs1', 'p_fracs1', 'p_DeltaE', 'p_E3x5_Lr0', 'p_E3x5_Lr1', 'p_E3x5_Lr2', 'p_E3x5_Lr3', 'p_E5x7_Lr0', 'p_E5x7_Lr1', 'p_E5x7_Lr2', 'p_E5x7_Lr3', 'p_E7x11_Lr0', 'p_E7x11_Lr1', 'p_E7x11_Lr2', 'p_E7x11_Lr3', 'p_E7x7_Lr0', 'p_E7x7_Lr1' ]"
   ]
  },
  {
   "cell_type": "markdown",
   "id": "32dc4cc1",
   "metadata": {},
   "source": [
    "Finally, we divide the training data into data (`X`) and labels (`y`)"
   ]
  },
  {
   "cell_type": "code",
   "execution_count": 5,
   "id": "1ae428bd",
   "metadata": {
    "ExecuteTime": {
     "end_time": "2021-05-18T20:46:49.231115Z",
     "start_time": "2021-05-18T20:46:49.071552Z"
    }
   },
   "outputs": [
    {
     "name": "stdout",
     "output_type": "stream",
     "text": [
      "Shape of X: (162500, 160)\n",
      "Shape of y_truth: (162500,)\n",
      "Shape of y_energy: (162500,)\n",
      "Shape of X_test: (160651, 160)\n"
     ]
    }
   ],
   "source": [
    "# Train sample\n",
    "X_unscaled = train[all_variables]\n",
    "y_truth = train['Truth']\n",
    "y_energy = train['p_truth_E']\n",
    "\n",
    "# Test sample\n",
    "X_test_unscaled = test[all_variables]\n",
    "\n",
    "print (f'Shape of X: {X_unscaled.shape}')\n",
    "print (f'Shape of y_truth: {y_truth.shape}')\n",
    "print (f'Shape of y_energy: {y_energy.shape}')\n",
    "print (f'Shape of X_test: {X_test_unscaled.shape}')"
   ]
  },
  {
   "cell_type": "markdown",
   "id": "3852958a",
   "metadata": {},
   "source": [
    "# Scale the Data"
   ]
  },
  {
   "cell_type": "markdown",
   "id": "03542895",
   "metadata": {},
   "source": [
    "We have 160 variables all with different distributions and different ranges of values, we therefor need to scale the data before we use it to train, so that one parameter will not dominate due to large values or something like that.\n",
    "\n",
    "There are many way to scale the data each method being better for a certain distribution of data or special features of data or the model that we want to run. Since we have so many different variables I will use what I consider the most simple: RobustScaler. It is possible that we should scale each column differently but that seems like overkill, so lets stick with this. We create our scala by fitting to the train data, we then also scale our test data, that we will use in the end."
   ]
  },
  {
   "cell_type": "code",
   "execution_count": 7,
   "id": "347157c1",
   "metadata": {
    "ExecuteTime": {
     "end_time": "2021-05-18T20:47:23.367263Z",
     "start_time": "2021-05-18T20:47:15.245721Z"
    }
   },
   "outputs": [],
   "source": [
    "#X = preprocessing.normalize(X_unscaled, norm='l2', axis=0)\n",
    "scaler = preprocessing.RobustScaler().fit(X_unscaled)\n",
    "X = scaler.transform(X_unscaled)\n",
    "\n",
    "# Scale test sample\n",
    "X_test = scaler.transform(X_test_unscaled)"
   ]
  },
  {
   "cell_type": "markdown",
   "id": "370a66c5",
   "metadata": {},
   "source": [
    "# Select the 25 most important physical parameters\n",
    "There are 160 variables for each event, which is way to much. We need to pick at most the 25 most important ones, that means the ones that makes the largest cut in the tree based model, i.e. classifies the most events with one cut. There are multiple ways to do this. XGBOOST has a built in feauture_importance that gives a score for how important the physical parameters are (based on the effect of a permutation of a columns value on the loss function). \n",
    "\n",
    "Another way to do this is with SHAP which is based on game theory. We will also try this, but this is more computationally expensive."
   ]
  },
  {
   "cell_type": "code",
   "execution_count": 8,
   "id": "0ba7c5ab",
   "metadata": {
    "ExecuteTime": {
     "end_time": "2021-05-18T20:47:32.624135Z",
     "start_time": "2021-05-18T20:47:31.736242Z"
    }
   },
   "outputs": [],
   "source": [
    "# Split data into train set and validation set - make LARGE val size, so we can quickly estimate best parameters\n",
    "X_train, X_val, y_train, y_val = train_test_split(X, y_truth, test_size=0.33, random_state=1)"
   ]
  },
  {
   "cell_type": "code",
   "execution_count": 9,
   "id": "f82745fb",
   "metadata": {
    "ExecuteTime": {
     "end_time": "2021-05-18T20:50:03.979932Z",
     "start_time": "2021-05-18T20:47:33.703759Z"
    }
   },
   "outputs": [
    {
     "data": {
      "text/plain": [
       "XGBClassifier(base_score=0.5, booster='gbtree', colsample_bylevel=1,\n",
       "              colsample_bynode=1, colsample_bytree=1, eval_metric='logloss',\n",
       "              gamma=0, gpu_id=-1, importance_type='gain',\n",
       "              interaction_constraints='', learning_rate=0.300000012,\n",
       "              max_delta_step=0, max_depth=6, min_child_weight=1, missing=nan,\n",
       "              monotone_constraints='()', n_estimators=100, n_jobs=4,\n",
       "              num_parallel_tree=1, random_state=1, reg_alpha=0, reg_lambda=1,\n",
       "              scale_pos_weight=1, seed=1, subsample=1, tree_method='exact',\n",
       "              use_label_encoder=False, validate_parameters=1, verbosity=None)"
      ]
     },
     "execution_count": 9,
     "metadata": {},
     "output_type": "execute_result"
    }
   ],
   "source": [
    "# Train model\n",
    "model = xgb.XGBClassifier(objective='binary:logistic', eval_metric='logloss', seed=1, \n",
    "                          use_label_encoder=False)\n",
    "model.fit(X_train, y_train)"
   ]
  },
  {
   "cell_type": "code",
   "execution_count": 10,
   "id": "56545e7e",
   "metadata": {
    "ExecuteTime": {
     "end_time": "2021-05-18T20:50:04.577481Z",
     "start_time": "2021-05-18T20:50:03.982302Z"
    }
   },
   "outputs": [
    {
     "data": {
      "text/plain": [
       "Text(0.5, 0, 'Xgboost Feature Importance')"
      ]
     },
     "execution_count": 10,
     "metadata": {},
     "output_type": "execute_result"
    },
    {
     "data": {
      "image/png": "[encoded data removed]",
      "text/plain": [
       "<Figure size 720x720 with 1 Axes>"
      ]
     },
     "metadata": {
      "needs_background": "light"
     },
     "output_type": "display_data"
    }
   ],
   "source": [
    "# Plot feature importances\n",
    "fig, ax1 = plt.subplots(figsize=(10,10))\n",
    "sorted_idx = model.feature_importances_.argsort()\n",
    "ax1.barh(np.array(all_variables)[sorted_idx][-25:], model.feature_importances_[sorted_idx][-25:])\n",
    "ax1.set_xlabel(\"Xgboost Feature Importance\")"
   ]
  },
  {
   "cell_type": "markdown",
   "id": "4d51e011",
   "metadata": {},
   "source": [
    "Here I have shown the 25 most important features, we do however need to make a decision of how many paramters we will use. To do this we will train the model with respectively 10, 15, 20 and 25 parameters to see how much the accuracy increases as a function of computer time or something like this, and then we can make a choice of how long we want our models to run and thus how many parameters to chose. But first let's do it with SHAP."
   ]
  },
  {
   "cell_type": "code",
   "execution_count": 11,
   "id": "0a09d608",
   "metadata": {
    "ExecuteTime": {
     "end_time": "2021-05-18T20:51:12.609639Z",
     "start_time": "2021-05-18T20:50:13.751018Z"
    }
   },
   "outputs": [
    {
     "data": {
      "image/png": "[encoded data removed]",
      "text/plain": [
       "<Figure size 576x684 with 1 Axes>"
      ]
     },
     "metadata": {
      "needs_background": "light"
     },
     "output_type": "display_data"
    }
   ],
   "source": [
    "# Run shap to get the most important parameters\n",
    "explainer = shap.TreeExplainer(model)\n",
    "shap_values = explainer.shap_values(X_train)\n",
    "\n",
    "# Plot them\n",
    "shap.summary_plot(shap_values, X_val, plot_type=\"bar\", feature_names=all_variables)"
   ]
  },
  {
   "cell_type": "code",
   "execution_count": 12,
   "id": "48f5ebae",
   "metadata": {
    "ExecuteTime": {
     "end_time": "2021-05-18T20:51:12.697491Z",
     "start_time": "2021-05-18T20:51:12.614141Z"
    }
   },
   "outputs": [
    {
     "data": {
      "text/plain": [
       "p_sigmad0                         0.825379\n",
       "p_ethad                           0.493707\n",
       "p_Rphi                            0.462573\n",
       "p_Reta                            0.460439\n",
       "p_Rhad                            0.349799\n",
       "p_deltaEta1                       0.300351\n",
       "p_ptconecoreTrackPtrCorrection    0.260168\n",
       "p_deltaPhiRescaled2               0.258604\n",
       "p_d0                              0.249752\n",
       "p_ambiguityType                   0.225140\n",
       "p_Rhad1                           0.207607\n",
       "p_nTracks                         0.202244\n",
       "p_d0Sig                           0.170295\n",
       "p_E7x11_Lr3                       0.150962\n",
       "p_dPOverP                         0.135867\n",
       "p_numberOfInnermostPixelHits      0.128075\n",
       "p_deltaPhiFromLastMeasurement     0.127225\n",
       "p_TRTPID                          0.121290\n",
       "p_numberOfPixelHits               0.112756\n",
       "p_EptRatio                        0.109301\n",
       "p_numberOfSCTHits                 0.102261\n",
       "p_r33over37allcalo                0.086893\n",
       "p_deltaPhi2                       0.084039\n",
       "p_Eratio                          0.076096\n",
       "NvtxReco                          0.073354\n",
       "dtype: float32"
      ]
     },
     "metadata": {},
     "output_type": "display_data"
    }
   ],
   "source": [
    "# Get mean shap values\n",
    "mean_shap = np.mean(abs(shap_values), axis=0)\n",
    "sort_idx = np.argsort(mean_shap)\n",
    "sort_shap = mean_shap[sort_idx][-25:][::-1]\n",
    "sort_shap_var = np.array(all_variables)[sort_idx][-25:][::-1]\n",
    "\n",
    "# Display the values\n",
    "shap_val25 = pd.Series( (sort_shap), index=sort_shap_var  )\n",
    "display(shap_val25)"
   ]
  },
  {
   "cell_type": "markdown",
   "id": "532a1187",
   "metadata": {},
   "source": [
    "Now let's choose how many parameters we will include in the model. There are different things to consider here: \n",
    "how well the model performs, here measured with the Loss MAE, and computing time. Lets look into this."
   ]
  },
  {
   "cell_type": "code",
   "execution_count": 13,
   "id": "442a01bc",
   "metadata": {
    "ExecuteTime": {
     "end_time": "2021-05-18T20:53:02.014778Z",
     "start_time": "2021-05-18T20:51:12.701428Z"
    }
   },
   "outputs": [
    {
     "data": {
      "application/vnd.jupyter.widget-view+json": {
       "model_id": "d69c388a8d624d2e91fae6ea37486d9e",
       "version_major": 2,
       "version_minor": 0
      },
      "text/plain": [
       "  0%|          | 0/6 [00:00<?, ?it/s]"
      ]
     },
     "metadata": {},
     "output_type": "display_data"
    }
   ],
   "source": [
    "# Set how many parameters we will test out\n",
    "n_params = [5,10,12,15,20,25]\n",
    "\n",
    "# Empty arrays to store values\n",
    "accuracy_arr = []\n",
    "computer_time = []\n",
    "\n",
    "fpr_arr = []\n",
    "tpr_arr = []\n",
    "auc_arr = []\n",
    "\n",
    "# Make X a pandas dataframe so we can use variable names to slice\n",
    "df_X = pd.DataFrame((X), columns=all_variables )\n",
    "\n",
    "# Loop over number of parameters used in a model\n",
    "for n in tqdm(n_params):\n",
    "    \n",
    "    # Make a new X (input data containing 20 best parameters)\n",
    "    X_temp = df_X[sort_shap_var[:n]]\n",
    "    \n",
    "    # Split test data and train data\n",
    "    X_train, X_val, y_train, y_val = train_test_split(X_temp, y_truth, test_size=0.33, random_state=1)\n",
    "    \n",
    "    # Train model and time it\n",
    "    model = xgb.XGBClassifier(objective='binary:logistic', eval_metric='logloss', seed=1, \n",
    "                              use_label_encoder=False)\n",
    "    t0 = time.process_time()\n",
    "    model.fit(X_train, y_train)\n",
    "    t = time.process_time() - t0\n",
    "    computer_time.append(t)\n",
    "    \n",
    "    # Get accuracy\n",
    "    y_pred = model.predict(X_val)\n",
    "    accuracy = accuracy_score(y_val, y_pred)\n",
    "    accuracy_arr.append(accuracy)\n",
    "    \n",
    "    # Get fpr, tpr and auc score\n",
    "    predictions = model.predict_proba(X_val) # find prediction that a particle belongs to each class ndarray\n",
    "    predictions = pd.DataFrame(predictions)\n",
    "    predictions.columns = ['not_electron', 'electron']\n",
    "    fpr, tpr, _ = roc_curve(y_val, predictions['electron'])\n",
    "    fpr_arr.append(fpr)\n",
    "    tpr_arr.append(tpr)\n",
    "    auc_score = auc(fpr, tpr)\n",
    "    auc_arr.append(auc_score)"
   ]
  },
  {
   "cell_type": "code",
   "execution_count": 19,
   "id": "816aa0f8",
   "metadata": {
    "ExecuteTime": {
     "end_time": "2021-05-18T20:54:04.074286Z",
     "start_time": "2021-05-18T20:54:03.619080Z"
    }
   },
   "outputs": [
    {
     "data": {
      "image/png": "[encoded data removed]",
      "text/plain": [
       "<Figure size 1080x432 with 2 Axes>"
      ]
     },
     "metadata": {
      "needs_background": "light"
     },
     "output_type": "display_data"
    }
   ],
   "source": [
    "# Plot ROC Curves and AUC vs. Computing times\n",
    "fig, ax = plt.subplots(ncols=2, figsize=(15,6), gridspec_kw={'width_ratios':(1,1.5)})\n",
    "\n",
    "for i in range(len(n_params)):\n",
    "    \n",
    "    # Plot ROC curve ----------------------------------------------------------------------------------------\n",
    "    ax[0].plot(fpr_arr[i], tpr_arr[i], label=f'{n_params[i]} parameters', linewidth=2)\n",
    "    ax[0].set_xlabel('FPR')\n",
    "    ax[0].set_ylabel('TPR')\n",
    "    \n",
    "    # Mark auc scores\n",
    "    ax[0].text(0.2, 0.6-i/20, f'AUC SCORE ({n_params[i]} parmeters): {auc_arr[i]:.4f}', color=f'C{i}', fontsize=12) \n",
    "    \n",
    "    # Plot AUC vs. Computing time ---------------------------------------------------------------------------\n",
    "    ax[1].plot(computer_time, auc_arr, color='k', linestyle='dashed', zorder=1)\n",
    "    ax[1].scatter(computer_time, auc_arr, color='r', linestyle='dashed', zorder=2, s=40)\n",
    "    ax[1].set_ylabel('AUC Score')\n",
    "    ax[1].set_xlabel('Computing Time [Seconds]')\n",
    "    \n",
    "    # Mark the number of parameters we use\n",
    "    circle = plt.Rectangle((55.7, 0.974), 5, 0.0025, color='k', alpha=0.1, fill=False)\n",
    "    ax[1].add_patch(circle)\n",
    "    line = plt.arrow(58, 0.974, 10, -0.002, width=0.000000001, color='k', alpha=0.05)\n",
    "    ax[1].add_patch(line)\n",
    "    text = 'We choose to include 15 parameters \\n since the AUC increases too \\n slowly after this'\n",
    "    ax[1].text(58, 0.9683, text, fontsize=14, weight='light') \n",
    "    \n",
    "fig.suptitle('ROC Curves for Models with Varying Number of Physical Parameters', fontsize=15, y=0.95)\n",
    "plt.show()"
   ]
  },
  {
   "cell_type": "markdown",
   "id": "0e6dff5f",
   "metadata": {},
   "source": [
    "# Random Search - Finding Hyper parameters with K-fold cross validation"
   ]
  },
  {
   "cell_type": "markdown",
   "id": "7548d226",
   "metadata": {},
   "source": [
    "Cross-validation is primarily used in applied machine learning to estimate the skill of a machine learning model on unseen data. That is, to use a limited sample in order to estimate how the model is expected to perform in general when used to make predictions on data not used during the training of the model.\n",
    "\n",
    "It is a popular method because it is simple to understand and because it generally results in a less biased or less optimistic estimate of the model skill than other methods, such as a simple train/test split\n",
    "\n",
    "The general procedure is as follows:\n",
    "\n",
    "- Shuffle the dataset randomly.\n",
    "- Split the dataset into k groups\n",
    "- For each unique group:\n",
    "- Take the group as a hold out or test data set\n",
    "- Take the remaining groups as a training data set\n",
    "- Fit a model on the training set and evaluate it on the test set\n",
    "- Retain the evaluation score and discard the model\n",
    "- Summarize the skill of the model using the sample of model evaluation scores\n",
    "\n",
    "We use k=5. Ten might be better but it takes too long.\n",
    "\n",
    "First we split the data into train set and a test set. We will then split the train set through k-fold cross validation. We can use these training sets to find the right hyperparameters, and then we can use that on the entire training set, to make the best model. We will use a Random Search (Bayesian Optimization takes 3+ hours, I tried), from sklearn, which has the k fold cross validation implemented.\n",
    "<img src=\"kfold.png\">"
   ]
  },
  {
   "cell_type": "code",
   "execution_count": 20,
   "id": "5690f1ae",
   "metadata": {
    "ExecuteTime": {
     "end_time": "2021-05-18T20:54:09.206847Z",
     "start_time": "2021-05-18T20:54:09.153257Z"
    }
   },
   "outputs": [],
   "source": [
    "# Prepare data (with 15 parameters), df_X is already scaled\n",
    "X = df_X[sort_shap_var[:15]]\n",
    "    \n",
    "# Split into test data and train data (get small test_size)\n",
    "X_train, X_val, y_train, y_val = train_test_split(X, y_truth, test_size=0.9, random_state=1)"
   ]
  },
  {
   "cell_type": "code",
   "execution_count": 21,
   "id": "38fbfaa1",
   "metadata": {
    "ExecuteTime": {
     "end_time": "2021-05-18T20:54:10.975873Z",
     "start_time": "2021-05-18T20:54:10.969365Z"
    }
   },
   "outputs": [
    {
     "data": {
      "text/plain": [
       "(16250, 15)"
      ]
     },
     "execution_count": 21,
     "metadata": {},
     "output_type": "execute_result"
    }
   ],
   "source": [
    "# Small train sample to find hyper parameters\n",
    "X_train.shape"
   ]
  },
  {
   "cell_type": "markdown",
   "id": "235cd107",
   "metadata": {},
   "source": [
    "We make a Random Search tuning the depth of the decision trees and the number of trees. The depth of the tree quickly consumes memor when increased, and my computer is almost retiring, so lets stick to evaluating between 1 and 10. As for the number of trees I can't seem to find the typical range to be in.\n",
    "\n",
    "To make the proces faster we start with a high learning rate, to roughly determine the value. We can later lower it and look specifically in that range to find the optimal hyperparameters.\n",
    "\n",
    "But first, we need to determine our scoring metric, that will evaluate which parameter combinations do well. As is evident from the cell below, our dataset is unbalanced and we will therefor use the 'balanced' accuracy as our scoring parameter instead of the regular \"accuracy\". The difference is explained in this post: https://statisticaloddsandends.wordpress.com/2020/01/23/what-is-balanced-accuracy/"
   ]
  },
  {
   "cell_type": "code",
   "execution_count": 22,
   "id": "d6ac02e3",
   "metadata": {
    "ExecuteTime": {
     "end_time": "2021-05-18T20:54:12.593508Z",
     "start_time": "2021-05-18T20:54:12.582574Z"
    }
   },
   "outputs": [
    {
     "name": "stdout",
     "output_type": "stream",
     "text": [
      "No. Electrons: 121495\n",
      "No. of non-electrons 41005\n",
      "We are working with a UNBALANCED dataset\n"
     ]
    }
   ],
   "source": [
    "print('No. Electrons:', np.sum(y_truth))\n",
    "print('No. of non-electrons', len(y_truth)-np.sum(y_truth))\n",
    "print('We are working with a UNBALANCED dataset')"
   ]
  },
  {
   "cell_type": "code",
   "execution_count": 23,
   "id": "138a2f07",
   "metadata": {
    "ExecuteTime": {
     "end_time": "2021-05-18T20:58:13.498929Z",
     "start_time": "2021-05-18T20:54:13.707228Z"
    }
   },
   "outputs": [],
   "source": [
    "### Initial Random Search ###\n",
    "\n",
    "# Specify parameters and distributions to sample from\n",
    "parameters_RandomSearch = {'max_depth': stats.randint(1,10), \n",
    "                           'n_estimators': stats.randint(1, 400)}\n",
    "\n",
    "# Chose number of iterations and number of folds\n",
    "n_iter_search = 10\n",
    "k = 5\n",
    "\n",
    "# Decide model configurations\n",
    "model = xgb.XGBClassifier(objective='binary:logistic', eval_metric='logloss', random_state=1,\n",
    "                         learning_rate=0.3, use_label_encoder=False)\n",
    "\n",
    "RandomSearch = RandomizedSearchCV(model, \n",
    "                                  param_distributions=parameters_RandomSearch, \n",
    "                                  n_iter=n_iter_search, \n",
    "                                  cv=k, \n",
    "                                  return_train_score=True,\n",
    "                                  random_state=1,\n",
    "                                  scoring = 'balanced_accuracy')\n",
    "\n",
    "# Fit the random search instance\n",
    "RandomSearch.fit(X_train, y_train);"
   ]
  },
  {
   "cell_type": "code",
   "execution_count": 24,
   "id": "e73ed0eb",
   "metadata": {
    "ExecuteTime": {
     "end_time": "2021-05-18T20:58:13.556164Z",
     "start_time": "2021-05-18T20:58:13.500736Z"
    }
   },
   "outputs": [
    {
     "name": "stdout",
     "output_type": "stream",
     "text": [
      "Random Search: \tBest parameters:  {'max_depth': 7, 'n_estimators': 282} , Best scores: 0.895\n"
     ]
    },
    {
     "data": {
      "text/html": [
       "<div>\n",
       "<style scoped>\n",
       "    .dataframe tbody tr th:only-of-type {\n",
       "        vertical-align: middle;\n",
       "    }\n",
       "\n",
       "    .dataframe tbody tr th {\n",
       "        vertical-align: top;\n",
       "    }\n",
       "\n",
       "    .dataframe thead th {\n",
       "        text-align: right;\n",
       "    }\n",
       "</style>\n",
       "<table border=\"1\" class=\"dataframe\">\n",
       "  <thead>\n",
       "    <tr style=\"text-align: right;\">\n",
       "      <th></th>\n",
       "      <th>mean_fit_time</th>\n",
       "      <th>std_fit_time</th>\n",
       "      <th>mean_score_time</th>\n",
       "      <th>std_score_time</th>\n",
       "      <th>param_max_depth</th>\n",
       "      <th>param_n_estimators</th>\n",
       "      <th>params</th>\n",
       "      <th>split0_test_score</th>\n",
       "      <th>split1_test_score</th>\n",
       "      <th>split2_test_score</th>\n",
       "      <th>...</th>\n",
       "      <th>mean_test_score</th>\n",
       "      <th>std_test_score</th>\n",
       "      <th>rank_test_score</th>\n",
       "      <th>split0_train_score</th>\n",
       "      <th>split1_train_score</th>\n",
       "      <th>split2_train_score</th>\n",
       "      <th>split3_train_score</th>\n",
       "      <th>split4_train_score</th>\n",
       "      <th>mean_train_score</th>\n",
       "      <th>std_train_score</th>\n",
       "    </tr>\n",
       "  </thead>\n",
       "  <tbody>\n",
       "    <tr>\n",
       "      <th>0</th>\n",
       "      <td>5.248808</td>\n",
       "      <td>0.241730</td>\n",
       "      <td>0.022500</td>\n",
       "      <td>0.003060</td>\n",
       "      <td>6</td>\n",
       "      <td>236</td>\n",
       "      <td>{'max_depth': 6, 'n_estimators': 236}</td>\n",
       "      <td>0.894321</td>\n",
       "      <td>0.888067</td>\n",
       "      <td>0.901097</td>\n",
       "      <td>...</td>\n",
       "      <td>0.892325</td>\n",
       "      <td>0.004996</td>\n",
       "      <td>6</td>\n",
       "      <td>1.000000</td>\n",
       "      <td>1.000000</td>\n",
       "      <td>1.000000</td>\n",
       "      <td>1.000000</td>\n",
       "      <td>1.000000</td>\n",
       "      <td>1.000000</td>\n",
       "      <td>0.000000</td>\n",
       "    </tr>\n",
       "    <tr>\n",
       "      <th>1</th>\n",
       "      <td>6.965907</td>\n",
       "      <td>0.067095</td>\n",
       "      <td>0.025111</td>\n",
       "      <td>0.001058</td>\n",
       "      <td>9</td>\n",
       "      <td>256</td>\n",
       "      <td>{'max_depth': 9, 'n_estimators': 256}</td>\n",
       "      <td>0.897250</td>\n",
       "      <td>0.888103</td>\n",
       "      <td>0.897991</td>\n",
       "      <td>...</td>\n",
       "      <td>0.893505</td>\n",
       "      <td>0.004961</td>\n",
       "      <td>4</td>\n",
       "      <td>1.000000</td>\n",
       "      <td>1.000000</td>\n",
       "      <td>1.000000</td>\n",
       "      <td>1.000000</td>\n",
       "      <td>1.000000</td>\n",
       "      <td>1.000000</td>\n",
       "      <td>0.000000</td>\n",
       "    </tr>\n",
       "    <tr>\n",
       "      <th>2</th>\n",
       "      <td>6.834931</td>\n",
       "      <td>0.057438</td>\n",
       "      <td>0.023163</td>\n",
       "      <td>0.000174</td>\n",
       "      <td>6</td>\n",
       "      <td>336</td>\n",
       "      <td>{'max_depth': 6, 'n_estimators': 336}</td>\n",
       "      <td>0.896626</td>\n",
       "      <td>0.888091</td>\n",
       "      <td>0.904827</td>\n",
       "      <td>...</td>\n",
       "      <td>0.893751</td>\n",
       "      <td>0.006301</td>\n",
       "      <td>3</td>\n",
       "      <td>1.000000</td>\n",
       "      <td>1.000000</td>\n",
       "      <td>1.000000</td>\n",
       "      <td>1.000000</td>\n",
       "      <td>1.000000</td>\n",
       "      <td>1.000000</td>\n",
       "      <td>0.000000</td>\n",
       "    </tr>\n",
       "    <tr>\n",
       "      <th>3</th>\n",
       "      <td>0.636119</td>\n",
       "      <td>0.031759</td>\n",
       "      <td>0.015697</td>\n",
       "      <td>0.001431</td>\n",
       "      <td>1</td>\n",
       "      <td>145</td>\n",
       "      <td>{'max_depth': 1, 'n_estimators': 145}</td>\n",
       "      <td>0.880985</td>\n",
       "      <td>0.876435</td>\n",
       "      <td>0.887543</td>\n",
       "      <td>...</td>\n",
       "      <td>0.881944</td>\n",
       "      <td>0.003633</td>\n",
       "      <td>10</td>\n",
       "      <td>0.888916</td>\n",
       "      <td>0.889429</td>\n",
       "      <td>0.887600</td>\n",
       "      <td>0.889203</td>\n",
       "      <td>0.893252</td>\n",
       "      <td>0.889680</td>\n",
       "      <td>0.001895</td>\n",
       "    </tr>\n",
       "    <tr>\n",
       "      <th>4</th>\n",
       "      <td>0.555011</td>\n",
       "      <td>0.012617</td>\n",
       "      <td>0.014997</td>\n",
       "      <td>0.000901</td>\n",
       "      <td>2</td>\n",
       "      <td>72</td>\n",
       "      <td>{'max_depth': 2, 'n_estimators': 72}</td>\n",
       "      <td>0.887023</td>\n",
       "      <td>0.875834</td>\n",
       "      <td>0.890703</td>\n",
       "      <td>...</td>\n",
       "      <td>0.884706</td>\n",
       "      <td>0.005719</td>\n",
       "      <td>9</td>\n",
       "      <td>0.899918</td>\n",
       "      <td>0.901933</td>\n",
       "      <td>0.899119</td>\n",
       "      <td>0.901257</td>\n",
       "      <td>0.903557</td>\n",
       "      <td>0.901157</td>\n",
       "      <td>0.001553</td>\n",
       "    </tr>\n",
       "  </tbody>\n",
       "</table>\n",
       "<p>5 rows × 22 columns</p>\n",
       "</div>"
      ],
      "text/plain": [
       "   mean_fit_time  std_fit_time  mean_score_time  std_score_time  \\\n",
       "0       5.248808      0.241730         0.022500        0.003060   \n",
       "1       6.965907      0.067095         0.025111        0.001058   \n",
       "2       6.834931      0.057438         0.023163        0.000174   \n",
       "3       0.636119      0.031759         0.015697        0.001431   \n",
       "4       0.555011      0.012617         0.014997        0.000901   \n",
       "\n",
       "  param_max_depth param_n_estimators                                 params  \\\n",
       "0               6                236  {'max_depth': 6, 'n_estimators': 236}   \n",
       "1               9                256  {'max_depth': 9, 'n_estimators': 256}   \n",
       "2               6                336  {'max_depth': 6, 'n_estimators': 336}   \n",
       "3               1                145  {'max_depth': 1, 'n_estimators': 145}   \n",
       "4               2                 72   {'max_depth': 2, 'n_estimators': 72}   \n",
       "\n",
       "   split0_test_score  split1_test_score  split2_test_score  ...  \\\n",
       "0           0.894321           0.888067           0.901097  ...   \n",
       "1           0.897250           0.888103           0.897991  ...   \n",
       "2           0.896626           0.888091           0.904827  ...   \n",
       "3           0.880985           0.876435           0.887543  ...   \n",
       "4           0.887023           0.875834           0.890703  ...   \n",
       "\n",
       "   mean_test_score  std_test_score  rank_test_score  split0_train_score  \\\n",
       "0         0.892325        0.004996                6            1.000000   \n",
       "1         0.893505        0.004961                4            1.000000   \n",
       "2         0.893751        0.006301                3            1.000000   \n",
       "3         0.881944        0.003633               10            0.888916   \n",
       "4         0.884706        0.005719                9            0.899918   \n",
       "\n",
       "   split1_train_score  split2_train_score  split3_train_score  \\\n",
       "0            1.000000            1.000000            1.000000   \n",
       "1            1.000000            1.000000            1.000000   \n",
       "2            1.000000            1.000000            1.000000   \n",
       "3            0.889429            0.887600            0.889203   \n",
       "4            0.901933            0.899119            0.901257   \n",
       "\n",
       "   split4_train_score  mean_train_score  std_train_score  \n",
       "0            1.000000          1.000000         0.000000  \n",
       "1            1.000000          1.000000         0.000000  \n",
       "2            1.000000          1.000000         0.000000  \n",
       "3            0.893252          0.889680         0.001895  \n",
       "4            0.903557          0.901157         0.001553  \n",
       "\n",
       "[5 rows x 22 columns]"
      ]
     },
     "execution_count": 24,
     "metadata": {},
     "output_type": "execute_result"
    }
   ],
   "source": [
    "# Get results\n",
    "RandomSearch_results = pd.DataFrame(RandomSearch.cv_results_)                 \n",
    "print(\"Random Search: \\tBest parameters: \", RandomSearch.best_params_, f\", Best scores: {RandomSearch.best_score_:.3f}\")\n",
    "\n",
    "RandomSearch_results.head(5)"
   ]
  },
  {
   "cell_type": "code",
   "execution_count": 25,
   "id": "a109c78e",
   "metadata": {
    "ExecuteTime": {
     "end_time": "2021-05-18T21:04:08.841888Z",
     "start_time": "2021-05-18T20:58:13.560322Z"
    },
    "scrolled": false
   },
   "outputs": [],
   "source": [
    "### New random search close to the best point ###\n",
    "\n",
    "# Specify parameters and distributions to sample from (center around the best values from previous search)\n",
    "parameters_RandomSearch2 = {'max_depth': stats.randint(4,9), \n",
    "                           'n_estimators': stats.randint(200,400) }\n",
    "\n",
    "# Chose number of iterations and number of folds\n",
    "n_iter_search = 10\n",
    "k = 5\n",
    "\n",
    "# Decide model configurations (lower learning rate for more precise result)\n",
    "model = xgb.XGBClassifier(objective='binary:logistic', eval_metric='logloss', random_state=1,\n",
    "                         learning_rate=0.3, use_label_encoder=False)\n",
    "\n",
    "RandomSearch2 = RandomizedSearchCV(model, \n",
    "                                   param_distributions=parameters_RandomSearch2, \n",
    "                                   n_iter=n_iter_search, \n",
    "                                   cv=k, \n",
    "                                   return_train_score=True,\n",
    "                                   random_state=1,\n",
    "                                   scoring = 'balanced_accuracy')\n",
    "\n",
    "# Fit the random search instance\n",
    "RandomSearch2.fit(X_train, y_train);"
   ]
  },
  {
   "cell_type": "code",
   "execution_count": 26,
   "id": "70588251",
   "metadata": {
    "ExecuteTime": {
     "end_time": "2021-05-18T21:04:08.879484Z",
     "start_time": "2021-05-18T21:04:08.844058Z"
    }
   },
   "outputs": [
    {
     "name": "stdout",
     "output_type": "stream",
     "text": [
      "Random Search: \tBest parameters:  {'max_depth': 7, 'n_estimators': 333} , Best scores: 0.895\n"
     ]
    },
    {
     "data": {
      "text/html": [
       "<div>\n",
       "<style scoped>\n",
       "    .dataframe tbody tr th:only-of-type {\n",
       "        vertical-align: middle;\n",
       "    }\n",
       "\n",
       "    .dataframe tbody tr th {\n",
       "        vertical-align: top;\n",
       "    }\n",
       "\n",
       "    .dataframe thead th {\n",
       "        text-align: right;\n",
       "    }\n",
       "</style>\n",
       "<table border=\"1\" class=\"dataframe\">\n",
       "  <thead>\n",
       "    <tr style=\"text-align: right;\">\n",
       "      <th></th>\n",
       "      <th>mean_fit_time</th>\n",
       "      <th>std_fit_time</th>\n",
       "      <th>mean_score_time</th>\n",
       "      <th>std_score_time</th>\n",
       "      <th>param_max_depth</th>\n",
       "      <th>param_n_estimators</th>\n",
       "      <th>params</th>\n",
       "      <th>split0_test_score</th>\n",
       "      <th>split1_test_score</th>\n",
       "      <th>split2_test_score</th>\n",
       "      <th>...</th>\n",
       "      <th>mean_test_score</th>\n",
       "      <th>std_test_score</th>\n",
       "      <th>rank_test_score</th>\n",
       "      <th>split0_train_score</th>\n",
       "      <th>split1_train_score</th>\n",
       "      <th>split2_train_score</th>\n",
       "      <th>split3_train_score</th>\n",
       "      <th>split4_train_score</th>\n",
       "      <th>mean_train_score</th>\n",
       "      <th>std_train_score</th>\n",
       "    </tr>\n",
       "  </thead>\n",
       "  <tbody>\n",
       "    <tr>\n",
       "      <th>0</th>\n",
       "      <td>7.892836</td>\n",
       "      <td>0.206615</td>\n",
       "      <td>0.026858</td>\n",
       "      <td>0.003096</td>\n",
       "      <td>7</td>\n",
       "      <td>340</td>\n",
       "      <td>{'max_depth': 7, 'n_estimators': 340}</td>\n",
       "      <td>0.899519</td>\n",
       "      <td>0.887910</td>\n",
       "      <td>0.899034</td>\n",
       "      <td>...</td>\n",
       "      <td>0.894666</td>\n",
       "      <td>0.004546</td>\n",
       "      <td>2</td>\n",
       "      <td>1.000000</td>\n",
       "      <td>1.000000</td>\n",
       "      <td>1.000000</td>\n",
       "      <td>1.000000</td>\n",
       "      <td>1.000000</td>\n",
       "      <td>1.000000</td>\n",
       "      <td>0.000000</td>\n",
       "    </tr>\n",
       "    <tr>\n",
       "      <th>1</th>\n",
       "      <td>4.841630</td>\n",
       "      <td>0.067385</td>\n",
       "      <td>0.019721</td>\n",
       "      <td>0.000141</td>\n",
       "      <td>4</td>\n",
       "      <td>337</td>\n",
       "      <td>{'max_depth': 4, 'n_estimators': 337}</td>\n",
       "      <td>0.904128</td>\n",
       "      <td>0.882940</td>\n",
       "      <td>0.898227</td>\n",
       "      <td>...</td>\n",
       "      <td>0.893484</td>\n",
       "      <td>0.007193</td>\n",
       "      <td>4</td>\n",
       "      <td>0.998441</td>\n",
       "      <td>0.997973</td>\n",
       "      <td>0.997817</td>\n",
       "      <td>0.997193</td>\n",
       "      <td>0.997973</td>\n",
       "      <td>0.997879</td>\n",
       "      <td>0.000402</td>\n",
       "    </tr>\n",
       "    <tr>\n",
       "      <th>2</th>\n",
       "      <td>7.521853</td>\n",
       "      <td>0.071421</td>\n",
       "      <td>0.024963</td>\n",
       "      <td>0.000293</td>\n",
       "      <td>7</td>\n",
       "      <td>333</td>\n",
       "      <td>{'max_depth': 7, 'n_estimators': 333}</td>\n",
       "      <td>0.899519</td>\n",
       "      <td>0.889363</td>\n",
       "      <td>0.899238</td>\n",
       "      <td>...</td>\n",
       "      <td>0.895287</td>\n",
       "      <td>0.003836</td>\n",
       "      <td>1</td>\n",
       "      <td>1.000000</td>\n",
       "      <td>1.000000</td>\n",
       "      <td>1.000000</td>\n",
       "      <td>1.000000</td>\n",
       "      <td>1.000000</td>\n",
       "      <td>1.000000</td>\n",
       "      <td>0.000000</td>\n",
       "    </tr>\n",
       "    <tr>\n",
       "      <th>3</th>\n",
       "      <td>4.913376</td>\n",
       "      <td>0.032158</td>\n",
       "      <td>0.019815</td>\n",
       "      <td>0.000138</td>\n",
       "      <td>4</td>\n",
       "      <td>344</td>\n",
       "      <td>{'max_depth': 4, 'n_estimators': 344}</td>\n",
       "      <td>0.903084</td>\n",
       "      <td>0.881271</td>\n",
       "      <td>0.898636</td>\n",
       "      <td>...</td>\n",
       "      <td>0.893232</td>\n",
       "      <td>0.007439</td>\n",
       "      <td>5</td>\n",
       "      <td>0.998441</td>\n",
       "      <td>0.998441</td>\n",
       "      <td>0.997973</td>\n",
       "      <td>0.997193</td>\n",
       "      <td>0.998284</td>\n",
       "      <td>0.998066</td>\n",
       "      <td>0.000469</td>\n",
       "    </tr>\n",
       "    <tr>\n",
       "      <th>4</th>\n",
       "      <td>4.775380</td>\n",
       "      <td>0.039251</td>\n",
       "      <td>0.020045</td>\n",
       "      <td>0.000732</td>\n",
       "      <td>5</td>\n",
       "      <td>271</td>\n",
       "      <td>{'max_depth': 5, 'n_estimators': 271}</td>\n",
       "      <td>0.900371</td>\n",
       "      <td>0.887863</td>\n",
       "      <td>0.894078</td>\n",
       "      <td>...</td>\n",
       "      <td>0.890396</td>\n",
       "      <td>0.006282</td>\n",
       "      <td>9</td>\n",
       "      <td>1.000000</td>\n",
       "      <td>0.999844</td>\n",
       "      <td>0.999844</td>\n",
       "      <td>1.000000</td>\n",
       "      <td>0.999844</td>\n",
       "      <td>0.999906</td>\n",
       "      <td>0.000076</td>\n",
       "    </tr>\n",
       "  </tbody>\n",
       "</table>\n",
       "<p>5 rows × 22 columns</p>\n",
       "</div>"
      ],
      "text/plain": [
       "   mean_fit_time  std_fit_time  mean_score_time  std_score_time  \\\n",
       "0       7.892836      0.206615         0.026858        0.003096   \n",
       "1       4.841630      0.067385         0.019721        0.000141   \n",
       "2       7.521853      0.071421         0.024963        0.000293   \n",
       "3       4.913376      0.032158         0.019815        0.000138   \n",
       "4       4.775380      0.039251         0.020045        0.000732   \n",
       "\n",
       "  param_max_depth param_n_estimators                                 params  \\\n",
       "0               7                340  {'max_depth': 7, 'n_estimators': 340}   \n",
       "1               4                337  {'max_depth': 4, 'n_estimators': 337}   \n",
       "2               7                333  {'max_depth': 7, 'n_estimators': 333}   \n",
       "3               4                344  {'max_depth': 4, 'n_estimators': 344}   \n",
       "4               5                271  {'max_depth': 5, 'n_estimators': 271}   \n",
       "\n",
       "   split0_test_score  split1_test_score  split2_test_score  ...  \\\n",
       "0           0.899519           0.887910           0.899034  ...   \n",
       "1           0.904128           0.882940           0.898227  ...   \n",
       "2           0.899519           0.889363           0.899238  ...   \n",
       "3           0.903084           0.881271           0.898636  ...   \n",
       "4           0.900371           0.887863           0.894078  ...   \n",
       "\n",
       "   mean_test_score  std_test_score  rank_test_score  split0_train_score  \\\n",
       "0         0.894666        0.004546                2            1.000000   \n",
       "1         0.893484        0.007193                4            0.998441   \n",
       "2         0.895287        0.003836                1            1.000000   \n",
       "3         0.893232        0.007439                5            0.998441   \n",
       "4         0.890396        0.006282                9            1.000000   \n",
       "\n",
       "   split1_train_score  split2_train_score  split3_train_score  \\\n",
       "0            1.000000            1.000000            1.000000   \n",
       "1            0.997973            0.997817            0.997193   \n",
       "2            1.000000            1.000000            1.000000   \n",
       "3            0.998441            0.997973            0.997193   \n",
       "4            0.999844            0.999844            1.000000   \n",
       "\n",
       "   split4_train_score  mean_train_score  std_train_score  \n",
       "0            1.000000          1.000000         0.000000  \n",
       "1            0.997973          0.997879         0.000402  \n",
       "2            1.000000          1.000000         0.000000  \n",
       "3            0.998284          0.998066         0.000469  \n",
       "4            0.999844          0.999906         0.000076  \n",
       "\n",
       "[5 rows x 22 columns]"
      ]
     },
     "execution_count": 26,
     "metadata": {},
     "output_type": "execute_result"
    }
   ],
   "source": [
    "# Get results\n",
    "RandomSearch2_results = pd.DataFrame(RandomSearch2.cv_results_)                 \n",
    "print(\"Random Search: \\tBest parameters: \", RandomSearch2.best_params_, f\", Best scores: {RandomSearch2.best_score_:.3f}\")\n",
    "\n",
    "RandomSearch2_results.head(5)"
   ]
  },
  {
   "cell_type": "code",
   "execution_count": 27,
   "id": "15f998f6",
   "metadata": {
    "ExecuteTime": {
     "end_time": "2021-05-18T21:04:09.364700Z",
     "start_time": "2021-05-18T21:04:08.882676Z"
    }
   },
   "outputs": [
    {
     "data": {
      "image/png": "[encoded data removed]",
      "text/plain": [
       "<Figure size 1080x432 with 3 Axes>"
      ]
     },
     "metadata": {
      "needs_background": "light"
     },
     "output_type": "display_data"
    }
   ],
   "source": [
    "# Lets try to plot it with colors in a 2d parameter space ----------------------------------\n",
    "\n",
    "# Create figure\n",
    "fig, ax = plt.subplots(ncols=2, figsize=(15,6), gridspec_kw={'wspace':0.2, 'width_ratios':(1.7,2)})\n",
    "\n",
    "# Get parameters\n",
    "x1 = RandomSearch_results['param_max_depth']\n",
    "x2 = RandomSearch_results['param_n_estimators']\n",
    "color = RandomSearch_results['mean_test_score']\n",
    "\n",
    "x1_2 = RandomSearch2_results['param_max_depth']\n",
    "x2_2 = RandomSearch2_results['param_n_estimators']\n",
    "color2 = RandomSearch2_results['mean_test_score']\n",
    "\n",
    "mini, maxi = np.min(np.concatenate((color,color2))), np.max(np.concatenate((color,color2))) #color ranges\n",
    "\n",
    "# Plot initial random search\n",
    "ax[0].scatter(x1, x2, s=300, c = color, cmap='RdYlGn', zorder=2, vmin=mini, vmax=maxi)\n",
    "ax[0].set_facecolor('gainsboro')\n",
    "ax[0].grid(color='w', zorder=0)\n",
    "ax[0].set_xlabel('max_depth', fontsize=14)\n",
    "ax[0].set_ylabel('n_estimators', fontsize=14)\n",
    "ax[0].set_title('Initial Random Search', fontsize=16)\n",
    "ax[0].set_xlim(0,10)\n",
    "ax[0].set_ylim(0,500)\n",
    "\n",
    "# Plot final search\n",
    "im2 = ax[1].scatter(x1_2, x2_2, s=300, c = color2, cmap='RdYlGn', zorder=2, vmin=mini, vmax=maxi)\n",
    "ax[1].set_facecolor('gainsboro')\n",
    "ax[1].grid(color='w', zorder=0)\n",
    "ax[1].set_xlabel('max_depth', fontsize=14)\n",
    "ax[1].set_ylabel('n_estimators', fontsize=14)\n",
    "ax[1].set_title('Final Random Search', fontsize=16)\n",
    "ax[1].set_xlim(3,9)\n",
    "ax[1].set_ylim(200,400)\n",
    "\n",
    "# Shared colorbar\n",
    "cbar = fig.colorbar(im2, ax=ax[1])\n",
    "cbar.set_label('Balanced Accuracy', fontsize=14, x=1.7)\n",
    "\n",
    "# Mark the zoom in plot ------------------------\n",
    "# Square\n",
    "rect = patches.Rectangle((3.9,199.1), 5.2, 200.2, linewidth=2, edgecolor='k', facecolor='none', linestyle='dashed')\n",
    "ax[0].add_patch(rect)\n",
    "# Lines\n",
    "line1 = patches.ConnectionPatch(xyA=(6.5,200), xyB=(3,200), coordsA=ax[0].transData, coordsB=ax[1].transData)\n",
    "fig.add_artist(line1)\n",
    "line2 = patches.ConnectionPatch(xyA=(6.5,400), xyB=(3,400), coordsA=ax[0].transData, coordsB=ax[1].transData)\n",
    "fig.add_artist(line2)\n",
    "\n",
    "plt.show()"
   ]
  },
  {
   "cell_type": "markdown",
   "id": "8e7fe3ec",
   "metadata": {},
   "source": [
    "# Bayesian Optimization - Finding Hyper parameters"
   ]
  },
  {
   "cell_type": "markdown",
   "id": "ead5885a",
   "metadata": {},
   "source": [
    "We can also do Bayesian Optimization to find the hyper parameters that leads to the highest accuracy. This is also based on 5 fold cross validation, but is, instead of random, a driven search."
   ]
  },
  {
   "cell_type": "code",
   "execution_count": 28,
   "id": "d9c69363",
   "metadata": {
    "ExecuteTime": {
     "end_time": "2021-05-18T21:04:09.385272Z",
     "start_time": "2021-05-18T21:04:09.374787Z"
    }
   },
   "outputs": [],
   "source": [
    "# Do 5-fold cross validation to optimize hyperparameters\n",
    "def XGB_CrossValidation(max_depth, n_estimators, data, targets):\n",
    "    \"\"\"Decision Tree cross validation.\n",
    "       Fits a Decision Tree with the given parameters to the target \n",
    "       given data, calculated a CV balanced accuracy score (for unbalanced data sets) and returns the mean.\n",
    "       The goal is to find combinations of max_depth, min_samples_leaf \n",
    "       that maximize the accuracy\n",
    "       \n",
    "       Inspired from Heavis function\n",
    "    \"\"\"\n",
    "    estimator = xgb.XGBClassifier(objective='binary:logistic', learning_rate=0.3,\n",
    "                            max_depth=max_depth, eval_metric='logloss', n_estimators=n_estimators,\n",
    "                            seed=1, use_label_encoder=False)\n",
    "    \n",
    "    cval = cross_val_score(estimator, data, targets, scoring='balanced_accuracy', cv=5)\n",
    "    \n",
    "    return cval.mean()"
   ]
  },
  {
   "cell_type": "code",
   "execution_count": 29,
   "id": "7c19ef2d",
   "metadata": {
    "ExecuteTime": {
     "end_time": "2021-05-18T21:04:09.409434Z",
     "start_time": "2021-05-18T21:04:09.400522Z"
    }
   },
   "outputs": [],
   "source": [
    "def optimize_XGB(data, targets, pars, init_points=4, n_iter=5):\n",
    "    \"\"\"Apply Bayesian Optimization to XGBOOST parameters.\"\"\"\n",
    "    \n",
    "    def crossval_wrapper(max_depth, n_estimators):\n",
    "        \"\"\"Wrapper of Decision Tree cross validation. \n",
    "           Notice how we ensure max_depth, n_estimators \n",
    "           are casted to integer before we pass them along.\n",
    "        \"\"\"\n",
    "        return XGB_CrossValidation(max_depth=int(max_depth), \n",
    "                                            n_estimators=int(n_estimators), \n",
    "                                            data=data, \n",
    "                                            targets=targets)\n",
    "\n",
    "    optimizer = BayesianOptimization(f=crossval_wrapper, \n",
    "                                     pbounds=pars, \n",
    "                                     random_state=1, \n",
    "                                     verbose=2)\n",
    "    optimizer.maximize(init_points=init_points, n_iter=n_iter)\n",
    "\n",
    "    return optimizer"
   ]
  },
  {
   "cell_type": "code",
   "execution_count": 30,
   "id": "b03fa634",
   "metadata": {
    "ExecuteTime": {
     "end_time": "2021-05-18T21:07:35.853581Z",
     "start_time": "2021-05-18T21:04:09.413516Z"
    }
   },
   "outputs": [
    {
     "name": "stdout",
     "output_type": "stream",
     "text": [
      "|   iter    |  target   | max_depth | n_esti... |\n",
      "-------------------------------------------------\n",
      "| \u001b[0m 1       \u001b[0m | \u001b[0m 0.8934  \u001b[0m | \u001b[0m 4.753   \u001b[0m | \u001b[0m 288.4   \u001b[0m |\n",
      "| \u001b[0m 2       \u001b[0m | \u001b[0m 0.8807  \u001b[0m | \u001b[0m 1.001   \u001b[0m | \u001b[0m 121.6   \u001b[0m |\n",
      "| \u001b[0m 3       \u001b[0m | \u001b[0m 0.8807  \u001b[0m | \u001b[0m 2.321   \u001b[0m | \u001b[0m 37.84   \u001b[0m |\n",
      "| \u001b[0m 4       \u001b[0m | \u001b[0m 0.8878  \u001b[0m | \u001b[0m 2.676   \u001b[0m | \u001b[0m 138.9   \u001b[0m |\n",
      "| \u001b[0m 5       \u001b[0m | \u001b[0m 0.8929  \u001b[0m | \u001b[0m 4.571   \u001b[0m | \u001b[0m 216.0   \u001b[0m |\n",
      "| \u001b[95m 6       \u001b[0m | \u001b[95m 0.8939  \u001b[0m | \u001b[95m 4.773   \u001b[0m | \u001b[95m 274.4   \u001b[0m |\n",
      "| \u001b[95m 7       \u001b[0m | \u001b[95m 0.894   \u001b[0m | \u001b[95m 4.313   \u001b[0m | \u001b[95m 275.7   \u001b[0m |\n",
      "| \u001b[0m 8       \u001b[0m | \u001b[0m 0.8855  \u001b[0m | \u001b[0m 1.104   \u001b[0m | \u001b[0m 388.5   \u001b[0m |\n",
      "| \u001b[0m 9       \u001b[0m | \u001b[0m 0.8921  \u001b[0m | \u001b[0m 10.0    \u001b[0m | \u001b[0m 178.7   \u001b[0m |\n",
      "| \u001b[0m 10      \u001b[0m | \u001b[0m 0.8856  \u001b[0m | \u001b[0m 1.0     \u001b[0m | \u001b[0m 332.5   \u001b[0m |\n",
      "| \u001b[0m 11      \u001b[0m | \u001b[0m 0.884   \u001b[0m | \u001b[0m 1.04    \u001b[0m | \u001b[0m 243.4   \u001b[0m |\n",
      "| \u001b[0m 12      \u001b[0m | \u001b[0m 0.8836  \u001b[0m | \u001b[0m 1.0     \u001b[0m | \u001b[0m 197.4   \u001b[0m |\n",
      "| \u001b[0m 13      \u001b[0m | \u001b[0m 0.8929  \u001b[0m | \u001b[0m 10.0    \u001b[0m | \u001b[0m 163.5   \u001b[0m |\n",
      "| \u001b[0m 14      \u001b[0m | \u001b[0m 0.8934  \u001b[0m | \u001b[0m 9.885   \u001b[0m | \u001b[0m 303.9   \u001b[0m |\n",
      "| \u001b[0m 15      \u001b[0m | \u001b[0m 0.8759  \u001b[0m | \u001b[0m 9.268   \u001b[0m | \u001b[0m 1.291   \u001b[0m |\n",
      "=================================================\n",
      "{'target': 0.8939802998788032, 'params': {'max_depth': 4.313221961654325, 'n_estimators': 275.66231273031656}}\n"
     ]
    }
   ],
   "source": [
    "parameters_BayesianOptimization = {\"max_depth\": (1, 10), \n",
    "                                   \"n_estimators\": (1, 400)}\n",
    "\n",
    "BayesianOptimization_object = optimize_XGB(X_train, \n",
    "                                           y_train, \n",
    "                                           parameters_BayesianOptimization, \n",
    "                                           init_points=6, n_iter=9)\n",
    "print(BayesianOptimization_object.max)"
   ]
  },
  {
   "cell_type": "code",
   "execution_count": 31,
   "id": "b58b3500",
   "metadata": {
    "ExecuteTime": {
     "end_time": "2021-05-18T21:07:36.178891Z",
     "start_time": "2021-05-18T21:07:35.856356Z"
    }
   },
   "outputs": [
    {
     "data": {
      "image/png": "[encoded data removed]",
      "text/plain": [
       "<Figure size 576x432 with 2 Axes>"
      ]
     },
     "metadata": {
      "needs_background": "light"
     },
     "output_type": "display_data"
    }
   ],
   "source": [
    "# Plot it\n",
    "\n",
    "# Create figure\n",
    "fig, ax = plt.subplots(figsize=(8,6))\n",
    "\n",
    "# Get parameters\n",
    "targets = []\n",
    "max_dep = []\n",
    "n_esti = []\n",
    "\n",
    "for i in BayesianOptimization_object.res:\n",
    "    \n",
    "    targets.append(i['target'])\n",
    "    max_dep.append(i['params']['max_depth'])\n",
    "    n_esti.append(i['params']['n_estimators'])\n",
    "\n",
    "# Plot initial random search\n",
    "im = ax.scatter(max_dep, n_esti, s=300, c = targets, cmap='RdYlGn', zorder=2)\n",
    "ax.set_facecolor('gainsboro')\n",
    "ax.grid(color='w', zorder=0)\n",
    "ax.set_xlabel('max_depth', fontsize=14)\n",
    "ax.set_ylabel('n_estimators', fontsize=14)\n",
    "ax.set_title('Bayesian Optimizer Result', fontsize=16)\n",
    "ax.set_xlim(0,11)\n",
    "ax.set_ylim(0,500)\n",
    "\n",
    "cbar = fig.colorbar(im, ax=ax)\n",
    "cbar.set_label('Balanced Accuracy', fontsize=14)\n",
    "\n",
    "plt.show()"
   ]
  },
  {
   "cell_type": "markdown",
   "id": "edafd33c",
   "metadata": {},
   "source": [
    "# Bayesian Optimization of Cross Entropy function"
   ]
  },
  {
   "cell_type": "code",
   "execution_count": 35,
   "id": "602b0d51",
   "metadata": {
    "ExecuteTime": {
     "end_time": "2021-05-18T21:12:33.805479Z",
     "start_time": "2021-05-18T21:12:33.799563Z"
    }
   },
   "outputs": [],
   "source": [
    "def XGB_LogLoss_CV(max_depth, n_estimators, data, targets):\n",
    "    \"\"\"Decision Tree cross validation.\n",
    "       Fits a Decision Tree with the given parameters to the target \n",
    "       given data, calculated a CV balanced accuracy score (for unbalanced data sets) and returns the mean.\n",
    "       The goal is to find combinations of max_depth, min_samples_leaf \n",
    "       that maximize the accuracy\n",
    "       \n",
    "       Inspired from Heavis function\n",
    "    \"\"\"\n",
    "    estimator = xgb.XGBClassifier(objective='binary:logistic', learning_rate=0.3,\n",
    "                            max_depth=max_depth, eval_metric='logloss', n_estimators=n_estimators,\n",
    "                            random_state=1, use_label_encoder=False)\n",
    "    \n",
    "    cross_entro = make_scorer(log_loss, eps=1e-10, greater_is_better=False) #negative output -> maximize\n",
    "    cval = cross_val_score(estimator, data, targets, scoring=cross_entro, cv=5)\n",
    "    #cval = cross_val_score(estimator, data, targets, scoring='neg_log_loss', cv=5) #negative so is maximized\n",
    "    \n",
    "    return cval.mean()"
   ]
  },
  {
   "cell_type": "code",
   "execution_count": 36,
   "id": "10964c37",
   "metadata": {
    "ExecuteTime": {
     "end_time": "2021-05-18T21:12:35.107701Z",
     "start_time": "2021-05-18T21:12:35.100245Z"
    }
   },
   "outputs": [],
   "source": [
    "def optimize_XGB_LogLoss(data, targets, pars, init_points=4, n_iter=5):\n",
    "    \"\"\"Apply Bayesian Optimization to XGBOOST parameters.\"\"\"\n",
    "    \n",
    "    def crossval_wrapper(max_depth, n_estimators):\n",
    "        \"\"\"Wrapper of Decision Tree cross validation. \n",
    "           Notice how we ensure max_depth, n_estimators \n",
    "           are casted to integer before we pass them along.\n",
    "        \"\"\"\n",
    "        return XGB_LogLoss_CV(max_depth=int(max_depth), \n",
    "                                            n_estimators=int(n_estimators), \n",
    "                                            data=data, \n",
    "                                            targets=targets)\n",
    "\n",
    "    optimizer = BayesianOptimization(f=crossval_wrapper, \n",
    "                                     pbounds=pars, \n",
    "                                     random_state=1, \n",
    "                                     verbose=2)\n",
    "    optimizer.maximize(init_points=init_points, n_iter=n_iter)\n",
    "\n",
    "    return optimizer"
   ]
  },
  {
   "cell_type": "code",
   "execution_count": 37,
   "id": "f1870324",
   "metadata": {
    "ExecuteTime": {
     "end_time": "2021-05-18T21:18:09.257056Z",
     "start_time": "2021-05-18T21:12:35.972836Z"
    },
    "scrolled": false
   },
   "outputs": [
    {
     "name": "stdout",
     "output_type": "stream",
     "text": [
      "|   iter    |  target   | max_depth | n_esti... |\n",
      "-------------------------------------------------\n",
      "| \u001b[0m 1       \u001b[0m | \u001b[0m-1.562   \u001b[0m | \u001b[0m 4.753   \u001b[0m | \u001b[0m 288.4   \u001b[0m |\n",
      "| \u001b[0m 2       \u001b[0m | \u001b[0m-1.62    \u001b[0m | \u001b[0m 1.001   \u001b[0m | \u001b[0m 121.6   \u001b[0m |\n",
      "| \u001b[0m 3       \u001b[0m | \u001b[0m-1.607   \u001b[0m | \u001b[0m 2.321   \u001b[0m | \u001b[0m 37.84   \u001b[0m |\n",
      "| \u001b[0m 4       \u001b[0m | \u001b[0m-1.566   \u001b[0m | \u001b[0m 2.676   \u001b[0m | \u001b[0m 138.9   \u001b[0m |\n",
      "| \u001b[95m 5       \u001b[0m | \u001b[95m-1.56    \u001b[0m | \u001b[95m 4.571   \u001b[0m | \u001b[95m 216.0   \u001b[0m |\n",
      "| \u001b[95m 6       \u001b[0m | \u001b[95m-1.55    \u001b[0m | \u001b[95m 4.773   \u001b[0m | \u001b[95m 274.4   \u001b[0m |\n",
      "| \u001b[0m 7       \u001b[0m | \u001b[0m-1.55    \u001b[0m | \u001b[0m 4.313   \u001b[0m | \u001b[0m 275.7   \u001b[0m |\n",
      "| \u001b[0m 8       \u001b[0m | \u001b[0m-1.571   \u001b[0m | \u001b[0m 4.735   \u001b[0m | \u001b[0m 162.3   \u001b[0m |\n",
      "| \u001b[0m 9       \u001b[0m | \u001b[0m-1.601   \u001b[0m | \u001b[0m 1.0     \u001b[0m | \u001b[0m 246.4   \u001b[0m |\n",
      "| \u001b[0m 10      \u001b[0m | \u001b[0m-1.559   \u001b[0m | \u001b[0m 8.433   \u001b[0m | \u001b[0m 197.1   \u001b[0m |\n",
      "| \u001b[95m 11      \u001b[0m | \u001b[95m-1.526   \u001b[0m | \u001b[95m 9.808   \u001b[0m | \u001b[95m 319.2   \u001b[0m |\n",
      "| \u001b[95m 12      \u001b[0m | \u001b[95m-1.525   \u001b[0m | \u001b[95m 9.906   \u001b[0m | \u001b[95m 332.8   \u001b[0m |\n",
      "| \u001b[0m 13      \u001b[0m | \u001b[0m-1.576   \u001b[0m | \u001b[0m 1.0     \u001b[0m | \u001b[0m 351.6   \u001b[0m |\n",
      "| \u001b[0m 14      \u001b[0m | \u001b[0m-1.588   \u001b[0m | \u001b[0m 1.0     \u001b[0m | \u001b[0m 325.9   \u001b[0m |\n",
      "| \u001b[95m 15      \u001b[0m | \u001b[95m-1.52    \u001b[0m | \u001b[95m 9.695   \u001b[0m | \u001b[95m 326.5   \u001b[0m |\n",
      "=================================================\n",
      "{'target': -1.5204146454072447, 'params': {'max_depth': 9.695179996084999, 'n_estimators': 326.4586782027844}}\n"
     ]
    }
   ],
   "source": [
    "parameters_BayesianOptimization = {\"max_depth\": (1, 10), \n",
    "                                   \"n_estimators\": (1, 400)}\n",
    "\n",
    "BayesianOptimization_object_LogLoss = optimize_XGB_LogLoss(X_train, \n",
    "                                                   y_train, \n",
    "                                                   parameters_BayesianOptimization, \n",
    "                                                   init_points=6, n_iter=9)\n",
    "print(BayesianOptimization_object_LogLoss.max)"
   ]
  },
  {
   "cell_type": "markdown",
   "id": "3705d021",
   "metadata": {},
   "source": [
    "# Make a final model"
   ]
  },
  {
   "cell_type": "markdown",
   "id": "bc0bac83",
   "metadata": {},
   "source": [
    "The best balanced accuracy we have obtained so far according to the balanced accuracy metric was from the initial random search, we will thus use that configuration to train our model on the test data. \n",
    "\n",
    "First we split our data into training data and validation data (the final test data is available still for predictions)"
   ]
  },
  {
   "cell_type": "code",
   "execution_count": 38,
   "id": "a8e3eb59",
   "metadata": {
    "ExecuteTime": {
     "end_time": "2021-05-18T21:18:09.358913Z",
     "start_time": "2021-05-18T21:18:09.261458Z"
    }
   },
   "outputs": [],
   "source": [
    "# Split into train data and validation data\n",
    "X_train, X_val, y_train, y_val = train_test_split(X, y_truth, test_size=0.2, random_state=1)"
   ]
  },
  {
   "cell_type": "code",
   "execution_count": 39,
   "id": "89f3cb17",
   "metadata": {
    "ExecuteTime": {
     "end_time": "2021-05-18T21:19:32.475331Z",
     "start_time": "2021-05-18T21:18:09.447296Z"
    }
   },
   "outputs": [
    {
     "name": "stdout",
     "output_type": "stream",
     "text": [
      "Balanced accuracy: 0.9084100869338676\n"
     ]
    }
   ],
   "source": [
    "# Chose parameters from Random Search\n",
    "max_depth_RS = RandomSearch.best_params_['max_depth']\n",
    "n_estimators_RS = RandomSearch.best_params_['n_estimators']\n",
    "\n",
    "# Set up model\n",
    "model_RS = xgb.XGBClassifier(objective='binary:logistic', eval_metric='logloss', random_state=1,\n",
    "                              use_label_encoder=False, max_depth=max_depth_RS, n_estimators=n_estimators_RS)\n",
    "\n",
    "# Train model on train set\n",
    "model_RS.fit(X_train, y_train)\n",
    "\n",
    "# Calculate balanced accuracy score\n",
    "y_pred_RS = model_RS.predict(X_val)\n",
    "accuracy_RS = balanced_accuracy_score(y_val, y_pred_RS)\n",
    "print('Balanced accuracy:', accuracy_RS)\n",
    "\n",
    "# Get predictions\n",
    "predictions_RS = model_RS.predict_proba(X_val)\n",
    "predictions_RS = pd.DataFrame(predictions_RS, columns=['not_electron', 'electron'])\n",
    "\n",
    "# Get fpr and tpr to produce roc_curve\n",
    "fpr_RS, tpr_RS, _ = roc_curve(y_val, predictions_RS['electron'])\n",
    "auc_score_RS = auc(fpr_RS, tpr_RS)"
   ]
  },
  {
   "cell_type": "code",
   "execution_count": 45,
   "id": "e4e68cb5",
   "metadata": {
    "ExecuteTime": {
     "end_time": "2021-05-18T21:24:01.303073Z",
     "start_time": "2021-05-18T21:22:04.363792Z"
    }
   },
   "outputs": [
    {
     "name": "stdout",
     "output_type": "stream",
     "text": [
      "Balanced accuracy: 0.9080680444623961\n"
     ]
    }
   ],
   "source": [
    "# Chose parameters from Bayesian optimization according to cross entropy metric\n",
    "max_depth_BO = int(BayesianOptimization_object_LogLoss.max['params']['max_depth'])\n",
    "n_estimators_BO = int(BayesianOptimization_object_LogLoss.max['params']['n_estimators'])\n",
    "\n",
    "# Set up model\n",
    "model_BO = xgb.XGBClassifier(objective='binary:logistic', eval_metric='logloss', random_state=1,\n",
    "                              use_label_encoder=False, max_depth=max_depth_BO, n_estimators=n_estimators_BO)\n",
    "\n",
    "# Train model on train set\n",
    "model_BO.fit(X_train, y_train)\n",
    "\n",
    "# Calculate balanced accuracy score\n",
    "y_pred_BO = model_BO.predict(X_val)\n",
    "accuracy_BO = balanced_accuracy_score(y_val, y_pred_BO)\n",
    "print('Balanced accuracy:', accuracy_BO)\n",
    "\n",
    "# Get predictions\n",
    "predictions_BO = model_BO.predict_proba(X_val)\n",
    "predictions_BO = pd.DataFrame(predictions_BO, columns=['not_electron', 'electron'])\n",
    "\n",
    "# Get fpr and tpr to produce roc_curve\n",
    "fpr_BO, tpr_BO, _ = roc_curve(y_val, predictions_BO['electron'])\n",
    "auc_score_BO = auc(fpr_BO, tpr_BO)"
   ]
  },
  {
   "cell_type": "code",
   "execution_count": 81,
   "id": "6cbbada2",
   "metadata": {
    "ExecuteTime": {
     "end_time": "2021-05-18T22:05:52.031550Z",
     "start_time": "2021-05-18T22:02:32.528281Z"
    }
   },
   "outputs": [],
   "source": [
    "# Evaluate Loss Function on the models\n",
    "cross_entro = make_scorer(log_loss, eps=1e-10, greater_is_better=False)\n",
    "loss_RS = cross_val_score(model_RS, X_val, y_val, scoring=cross_entro, cv=5)\n",
    "loss_BO = cross_val_score(model_BO, X_val, y_val, scoring=cross_entro, cv=5)"
   ]
  },
  {
   "cell_type": "code",
   "execution_count": 86,
   "id": "9118d9dc",
   "metadata": {
    "ExecuteTime": {
     "end_time": "2021-05-18T22:07:34.917659Z",
     "start_time": "2021-05-18T22:07:34.667465Z"
    }
   },
   "outputs": [
    {
     "data": {
      "image/png": "[encoded data removed]",
      "text/plain": [
       "<Figure size 576x576 with 1 Axes>"
      ]
     },
     "metadata": {
      "needs_background": "light"
     },
     "output_type": "display_data"
    }
   ],
   "source": [
    "# Plot ROC curve\n",
    "fig, ax = plt.subplots(figsize=(8,8))\n",
    "ax.plot(fpr_RS, tpr_RS, color='r', linewidth=2)\n",
    "ax.plot(fpr_BO, tpr_BO, color='b', linewidth=2)\n",
    "\n",
    "# Mark auc scores\n",
    "ax.text(0.2, 0.6, f'AUC SCORE (Balanced Accuracy Optimized): {auc_score_RS:.4f}', color='r', fontsize=12)\n",
    "ax.text(0.2, 0.55, f'LOSS (Binary Cross Entropy (5 fold CV)): {-loss_RS.mean():.4f}', color='r', fontsize=12)\n",
    "\n",
    "ax.text(0.2, 0.45, f'AUC SCORE (LogLoss Optimized): {auc_score_BO:.4f}', color='b', fontsize=12) \n",
    "ax.text(0.2, 0.4, f'LOSS (Binary Cross Entropy (5 fold CV)): {-loss_BO.mean():.4f}', color='b', fontsize=12)\n",
    "\n",
    "plt.show()"
   ]
  },
  {
   "cell_type": "markdown",
   "id": "143bdf28",
   "metadata": {},
   "source": [
    "The ROC curves for the two are quite similar, but it seems the first one (Balanced Accuracy optimised) performs better even though the other one was optimized to perform well on the loss function we evaluate it with. Nonetheless let's stick with the first, red, model."
   ]
  },
  {
   "cell_type": "markdown",
   "id": "a4995eb2",
   "metadata": {},
   "source": [
    "# Make predictions on test data and produce csv file"
   ]
  },
  {
   "cell_type": "code",
   "execution_count": 87,
   "id": "c229eec9",
   "metadata": {
    "ExecuteTime": {
     "end_time": "2021-05-18T22:09:40.302973Z",
     "start_time": "2021-05-18T22:09:39.004913Z"
    }
   },
   "outputs": [],
   "source": [
    "# Extract the physical parameters we have chosen in the test set -------------------------\n",
    "\n",
    "# Make X_test a pandas dataframe so we can use variable names to slice\n",
    "df_X_test = pd.DataFrame((X_test), columns=all_variables )\n",
    "    \n",
    "# Make a new X (input data containing 20 best parameters)\n",
    "X_test = df_X_test[sort_shap_var[:15]]\n",
    "\n",
    "# Make probability predictions between 0 and 1\n",
    "# columns are 'not_electron' and 'electron' below: it doesnt matter which one we chose\n",
    "final_predictions = model_RS.predict_proba(X_test)\n",
    "\n",
    "# Extract electrons column\n",
    "final_predictions = pd.DataFrame(final_predictions[:,0], columns=['probability prediction'])"
   ]
  },
  {
   "cell_type": "markdown",
   "id": "150e2f64",
   "metadata": {},
   "source": [
    "should it be [:,1]?"
   ]
  },
  {
   "cell_type": "code",
   "execution_count": 88,
   "id": "2f6b3399",
   "metadata": {
    "ExecuteTime": {
     "end_time": "2021-05-18T22:09:47.048462Z",
     "start_time": "2021-05-18T22:09:46.444685Z"
    }
   },
   "outputs": [],
   "source": [
    "# Make csv file with predictions\n",
    "file_name = 'Classification_KimiKreilgaard_XGBoostClassifier.txt'\n",
    "final_predictions.to_csv('Solutions/'+file_name, sep=',', header=None, index=True, mode='w')"
   ]
  },
  {
   "cell_type": "code",
   "execution_count": 94,
   "id": "887fec14",
   "metadata": {
    "ExecuteTime": {
     "end_time": "2021-05-18T22:23:10.357874Z",
     "start_time": "2021-05-18T22:23:10.352890Z"
    }
   },
   "outputs": [],
   "source": [
    "# Make csv file with parameters used\n",
    "file_name = 'Classification_KimiKreilgaard_XGBoostClassifier_VariableList.txt'\n",
    "\n",
    "outfile = open('Solutions/'+file_name, 'w')\n",
    "\n",
    "for var in sort_shap_var[:15]:\n",
    "    outfile.write(var+'\\n')"
   ]
  }
 ],
 "metadata": {
  "kernelspec": {
   "display_name": "Python 3",
   "language": "python",
   "name": "python3"
  },
  "language_info": {
   "codemirror_mode": {
    "name": "ipython",
    "version": 3
   },
   "file_extension": ".py",
   "mimetype": "text/x-python",
   "name": "python",
   "nbconvert_exporter": "python",
   "pygments_lexer": "ipython3",
   "version": "3.6.12"
  },
  "toc": {
   "base_numbering": 1,
   "nav_menu": {},
   "number_sections": true,
   "sideBar": true,
   "skip_h1_title": false,
   "title_cell": "Table of Contents",
   "title_sidebar": "Contents",
   "toc_cell": false,
   "toc_position": {},
   "toc_section_display": true,
   "toc_window_display": true
  }
 },
 "nbformat": 4,
 "nbformat_minor": 5
}
